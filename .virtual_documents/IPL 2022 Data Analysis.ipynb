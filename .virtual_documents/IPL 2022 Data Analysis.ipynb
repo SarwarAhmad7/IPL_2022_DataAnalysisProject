import pandas as pd 
import numpy as np 
import matplotlib.pyplot as plt
import seaborn as sns 
get_ipython().run_line_magic("matplotlib", " inline ")


df = pd.read_csv('ipl_2022_dataset.csv')


df.head()


df.shape


df.columns


df.drop(['Unnamed: 0'], axis=1, inplace=True)


df.head()


df.info()


df.isnull().sum()


# yellow lines shows null values in each column.
sns.heatmap(df.isnull(), cmap="viridis", yticklabels=False, cbar=False)


df[df['COST IN ₹ (CR.)'].isnull()].head(10)


# These are the Players which went Unsold in 2022 Auctions so their Cost we can replace with ZERO


df['COST IN ₹ (CR.)'] = df['COST IN ₹ (CR.)'].fillna(0)
df['Cost IN $ (000)'] = df['Cost IN $ (000)'].fillna(0)


df[df['COST IN ₹ (CR.)'].isnull()]


# Null values in 2021 Squad


df[df['2021 Squad'].isnull()].head(10)


# These are the players who either went unsold in 2021 IPL or are participating for the first time in IPL


df['2021 Squad'] = df['2021 Squad'].fillna("Not Participated in IPL 2021")


df.tail()


df.isnull().sum()


# yellow lines shows null values in each column.
sns.heatmap(df.isnull(), cmap="viridis", yticklabels=False, cbar=False)


# we have replaced all the null values in each column


# adding new columns and adjusting few columns for further Analysis


df['Status'] = np.where(df['COST IN ₹ (CR.)'] > 0, 'sold', df['Team'] )


df.head()


df['Base Price'].unique()


df['retention'] = df['Base Price']


df['retention'].replace(['2 Cr', '40 Lakh', '20 Lakh', '1 Cr', '75 Lakh','50 Lakh', '30 Lakh', '1.5 Cr'],'In Auction',inplace=True)


df.head()


df['Base Price'] = df['Base Price'].replace('Draft Pick',0)


df['base_price_unit'] = df['Base Price'].apply(lambda x : str(x).split(' ')[-1])


df['base_price(00000)'] = df['base_price(00000)'].apply(lambda x: str(x).split(' ')[0])


df.head()


df['base_price(00000)'] = df['base_price(00000)'].replace('Retained',0)


df['base_price_unit'].unique()


df['base_price_unit'] = df['base_price_unit'].replace({'Cr':100, 'Lakh':1, 'Retained':0})


df['base_price(00000)'] = df['base_price(00000)'].astype(float)
df['base_price_unit'] = df['base_price_unit'].astype(int)


df['base_price(00000)'] = df['base_price(00000)']*df['base_price_unit']


df.head()


df.drop(["Base Price","base_price_unit"],axis=1, inplace=True)


df.columns


df.head()


df = df.rename(columns={'TYPE':"Type", 'COST IN ₹ (CR.)':"Sold_for_CR", 'Cost IN $ (000)':"Cost_in_Dollar(000)",'2021 Squad':"Prev_team","Team":"Curr_team"})


df.head()


# list of Questions and to answer those questions.





df.shape[0]








types = df['Type'].value_counts()
types


plt.pie(x=types.values, labels=types.index, labeldistance=1.2, autopct='%1.2f%%')
plt.title('Role of Players Participated')
plt.show()








# plt.figure(figsize=(5,5))
fig = sns.countplot(df['Status'],palette=['Green','Red'])
plt.ylabel('Sold or Unsold')
plt.xlabel('Number of Players')
plt.title('Sold vs Unsold', fontsize=15)





plt.figure(figsize=(20,10))
fig = sns.countplot(df[df['Curr_team']!='Unsold']['Curr_team'])
plt.xlabel('Name of Team')
plt.ylabel('Number of Players')
plt.title('Players Brought by each Team', fontsize=15)
plt.xticks(rotation=90)
plt.plot()

for p in fig.patches:
    fig.annotate(format(p.get_height(), '.0f'), (p.get_x() + p.get_width()/2., p.get_height()), ha = 'center', va = 'center', xytext = (0, 4), textcoords = 'offset points')



